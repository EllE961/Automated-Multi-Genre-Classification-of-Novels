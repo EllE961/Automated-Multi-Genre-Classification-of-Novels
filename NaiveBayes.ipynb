{
 "cells": [
  {
   "cell_type": "code",
   "execution_count": null,
   "metadata": {},
   "outputs": [
    {
     "data": {
      "text/html": [
       "<pre style=\"white-space:pre;overflow-x:auto;line-height:normal;font-family:Menlo,'DejaVu Sans Mono',consolas,'Courier New',monospace\"><span style=\"color: #7fbfbf; text-decoration-color: #7fbfbf\">2024-12-19 18:22:03 </span><span style=\"color: #000080; text-decoration-color: #000080\">INFO    </span> <span style=\"color: #008080; text-decoration-color: #008080; font-weight: bold\">2024</span>-<span style=\"color: #008080; text-decoration-color: #008080; font-weight: bold\">12</span>-<span style=\"color: #008080; text-decoration-color: #008080; font-weight: bold\">19</span> <span style=\"color: #00ff00; text-decoration-color: #00ff00; font-weight: bold\">18:22:03</span> - INFO - Downloading NLTK WordNet<span style=\"color: #808000; text-decoration-color: #808000\">...</span>              <a href=\"file://C:\\Users\\newye\\AppData\\Local\\Temp\\ipykernel_37324\\3571328483.py\" target=\"_blank\"><span style=\"color: #7f7f7f; text-decoration-color: #7f7f7f\">3571328483.py</span></a><span style=\"color: #7f7f7f; text-decoration-color: #7f7f7f\">:</span><a href=\"file://C:\\Users\\newye\\AppData\\Local\\Temp\\ipykernel_37324\\3571328483.py#82\" target=\"_blank\"><span style=\"color: #7f7f7f; text-decoration-color: #7f7f7f\">82</span></a>\n",
       "</pre>\n"
      ],
      "text/plain": [
       "\u001b[2;36m2024-12-19 18:22:03\u001b[0m\u001b[2;36m \u001b[0m\u001b[34mINFO    \u001b[0m \u001b[1;36m2024\u001b[0m-\u001b[1;36m12\u001b[0m-\u001b[1;36m19\u001b[0m \u001b[1;92m18:22:03\u001b[0m - INFO - Downloading NLTK WordNet\u001b[33m...\u001b[0m              \u001b]8;id=894213;file://C:\\Users\\newye\\AppData\\Local\\Temp\\ipykernel_37324\\3571328483.py\u001b\\\u001b[2m3571328483.py\u001b[0m\u001b]8;;\u001b\\\u001b[2m:\u001b[0m\u001b]8;id=486755;file://C:\\Users\\newye\\AppData\\Local\\Temp\\ipykernel_37324\\3571328483.py#82\u001b\\\u001b[2m82\u001b[0m\u001b]8;;\u001b\\\n"
      ]
     },
     "metadata": {},
     "output_type": "display_data"
    },
    {
     "name": "stderr",
     "output_type": "stream",
     "text": [
      "[nltk_data] Downloading package wordnet to C:\\Users\\newye/nltk_data...\n",
      "[nltk_data]   Package wordnet is already up-to-date!\n"
     ]
    },
    {
     "data": {
      "text/html": [
       "<pre style=\"white-space:pre;overflow-x:auto;line-height:normal;font-family:Menlo,'DejaVu Sans Mono',consolas,'Courier New',monospace\"><span style=\"color: #7fbfbf; text-decoration-color: #7fbfbf\">                    </span><span style=\"color: #000080; text-decoration-color: #000080\">INFO    </span> <span style=\"color: #008080; text-decoration-color: #008080; font-weight: bold\">2024</span>-<span style=\"color: #008080; text-decoration-color: #008080; font-weight: bold\">12</span>-<span style=\"color: #008080; text-decoration-color: #008080; font-weight: bold\">19</span> <span style=\"color: #00ff00; text-decoration-color: #00ff00; font-weight: bold\">18:22:03</span> - INFO - Downloading NLTK omw-<span style=\"color: #008080; text-decoration-color: #008080; font-weight: bold\">1.4</span><span style=\"color: #808000; text-decoration-color: #808000\">...</span>              <a href=\"file://C:\\Users\\newye\\AppData\\Local\\Temp\\ipykernel_37324\\3571328483.py\" target=\"_blank\"><span style=\"color: #7f7f7f; text-decoration-color: #7f7f7f\">3571328483.py</span></a><span style=\"color: #7f7f7f; text-decoration-color: #7f7f7f\">:</span><a href=\"file://C:\\Users\\newye\\AppData\\Local\\Temp\\ipykernel_37324\\3571328483.py#87\" target=\"_blank\"><span style=\"color: #7f7f7f; text-decoration-color: #7f7f7f\">87</span></a>\n",
       "</pre>\n"
      ],
      "text/plain": [
       "\u001b[2;36m                   \u001b[0m\u001b[2;36m \u001b[0m\u001b[34mINFO    \u001b[0m \u001b[1;36m2024\u001b[0m-\u001b[1;36m12\u001b[0m-\u001b[1;36m19\u001b[0m \u001b[1;92m18:22:03\u001b[0m - INFO - Downloading NLTK omw-\u001b[1;36m1.4\u001b[0m\u001b[33m...\u001b[0m              \u001b]8;id=906348;file://C:\\Users\\newye\\AppData\\Local\\Temp\\ipykernel_37324\\3571328483.py\u001b\\\u001b[2m3571328483.py\u001b[0m\u001b]8;;\u001b\\\u001b[2m:\u001b[0m\u001b]8;id=786328;file://C:\\Users\\newye\\AppData\\Local\\Temp\\ipykernel_37324\\3571328483.py#87\u001b\\\u001b[2m87\u001b[0m\u001b]8;;\u001b\\\n"
      ]
     },
     "metadata": {},
     "output_type": "display_data"
    },
    {
     "name": "stderr",
     "output_type": "stream",
     "text": [
      "[nltk_data] Downloading package omw-1.4 to C:\\Users\\newye/nltk_data...\n",
      "[nltk_data]   Package omw-1.4 is already up-to-date!\n"
     ]
    },
    {
     "data": {
      "text/html": [
       "<pre style=\"white-space:pre;overflow-x:auto;line-height:normal;font-family:Menlo,'DejaVu Sans Mono',consolas,'Courier New',monospace\"><span style=\"color: #7fbfbf; text-decoration-color: #7fbfbf\">                    </span><span style=\"color: #000080; text-decoration-color: #000080\">INFO    </span> <span style=\"color: #008080; text-decoration-color: #008080; font-weight: bold\">2024</span>-<span style=\"color: #008080; text-decoration-color: #008080; font-weight: bold\">12</span>-<span style=\"color: #008080; text-decoration-color: #008080; font-weight: bold\">19</span> <span style=\"color: #00ff00; text-decoration-color: #00ff00; font-weight: bold\">18:22:03</span> - INFO - Loaded <span style=\"color: #008080; text-decoration-color: #008080; font-weight: bold\">1337</span> custom stopwords from       <a href=\"file://C:\\Users\\newye\\AppData\\Local\\Temp\\ipykernel_37324\\3571328483.py\" target=\"_blank\"><span style=\"color: #7f7f7f; text-decoration-color: #7f7f7f\">3571328483.py</span></a><span style=\"color: #7f7f7f; text-decoration-color: #7f7f7f\">:</span><a href=\"file://C:\\Users\\newye\\AppData\\Local\\Temp\\ipykernel_37324\\3571328483.py#105\" target=\"_blank\"><span style=\"color: #7f7f7f; text-decoration-color: #7f7f7f\">105</span></a>\n",
       "<span style=\"color: #7fbfbf; text-decoration-color: #7fbfbf\">                    </span>         <span style=\"color: #008000; text-decoration-color: #008000\">'stopwords.txt'</span>.                                                     <span style=\"color: #7f7f7f; text-decoration-color: #7f7f7f\">                 </span>\n",
       "</pre>\n"
      ],
      "text/plain": [
       "\u001b[2;36m                   \u001b[0m\u001b[2;36m \u001b[0m\u001b[34mINFO    \u001b[0m \u001b[1;36m2024\u001b[0m-\u001b[1;36m12\u001b[0m-\u001b[1;36m19\u001b[0m \u001b[1;92m18:22:03\u001b[0m - INFO - Loaded \u001b[1;36m1337\u001b[0m custom stopwords from       \u001b]8;id=659805;file://C:\\Users\\newye\\AppData\\Local\\Temp\\ipykernel_37324\\3571328483.py\u001b\\\u001b[2m3571328483.py\u001b[0m\u001b]8;;\u001b\\\u001b[2m:\u001b[0m\u001b]8;id=271469;file://C:\\Users\\newye\\AppData\\Local\\Temp\\ipykernel_37324\\3571328483.py#105\u001b\\\u001b[2m105\u001b[0m\u001b]8;;\u001b\\\n",
       "\u001b[2;36m                    \u001b[0m         \u001b[32m'stopwords.txt'\u001b[0m.                                                     \u001b[2m                 \u001b[0m\n"
      ]
     },
     "metadata": {},
     "output_type": "display_data"
    },
    {
     "data": {
      "text/html": [
       "<pre style=\"white-space:pre;overflow-x:auto;line-height:normal;font-family:Menlo,'DejaVu Sans Mono',consolas,'Courier New',monospace\"><span style=\"color: #7fbfbf; text-decoration-color: #7fbfbf\">2024-12-19 18:22:07 </span><span style=\"color: #000080; text-decoration-color: #000080\">INFO    </span> <span style=\"color: #008080; text-decoration-color: #008080; font-weight: bold\">2024</span>-<span style=\"color: #008080; text-decoration-color: #008080; font-weight: bold\">12</span>-<span style=\"color: #008080; text-decoration-color: #008080; font-weight: bold\">19</span> <span style=\"color: #00ff00; text-decoration-color: #00ff00; font-weight: bold\">18:22:07</span> - INFO - Loaded <span style=\"color: #008080; text-decoration-color: #008080; font-weight: bold\">762</span> novels from                  <a href=\"file://C:\\Users\\newye\\AppData\\Local\\Temp\\ipykernel_37324\\3571328483.py\" target=\"_blank\"><span style=\"color: #7f7f7f; text-decoration-color: #7f7f7f\">3571328483.py</span></a><span style=\"color: #7f7f7f; text-decoration-color: #7f7f7f\">:</span><a href=\"file://C:\\Users\\newye\\AppData\\Local\\Temp\\ipykernel_37324\\3571328483.py#146\" target=\"_blank\"><span style=\"color: #7f7f7f; text-decoration-color: #7f7f7f\">146</span></a>\n",
       "<span style=\"color: #7fbfbf; text-decoration-color: #7fbfbf\">                    </span>         collected_books.json.                                                <span style=\"color: #7f7f7f; text-decoration-color: #7f7f7f\">                 </span>\n",
       "</pre>\n"
      ],
      "text/plain": [
       "\u001b[2;36m2024-12-19 18:22:07\u001b[0m\u001b[2;36m \u001b[0m\u001b[34mINFO    \u001b[0m \u001b[1;36m2024\u001b[0m-\u001b[1;36m12\u001b[0m-\u001b[1;36m19\u001b[0m \u001b[1;92m18:22:07\u001b[0m - INFO - Loaded \u001b[1;36m762\u001b[0m novels from                  \u001b]8;id=813237;file://C:\\Users\\newye\\AppData\\Local\\Temp\\ipykernel_37324\\3571328483.py\u001b\\\u001b[2m3571328483.py\u001b[0m\u001b]8;;\u001b\\\u001b[2m:\u001b[0m\u001b]8;id=796582;file://C:\\Users\\newye\\AppData\\Local\\Temp\\ipykernel_37324\\3571328483.py#146\u001b\\\u001b[2m146\u001b[0m\u001b]8;;\u001b\\\n",
       "\u001b[2;36m                    \u001b[0m         collected_books.json.                                                \u001b[2m                 \u001b[0m\n"
      ]
     },
     "metadata": {},
     "output_type": "display_data"
    },
    {
     "data": {
      "text/html": [
       "<pre style=\"white-space:pre;overflow-x:auto;line-height:normal;font-family:Menlo,'DejaVu Sans Mono',consolas,'Courier New',monospace\"><span style=\"color: #7fbfbf; text-decoration-color: #7fbfbf\">                    </span><span style=\"color: #000080; text-decoration-color: #000080\">INFO    </span> <span style=\"color: #008080; text-decoration-color: #008080; font-weight: bold\">2024</span>-<span style=\"color: #008080; text-decoration-color: #008080; font-weight: bold\">12</span>-<span style=\"color: #008080; text-decoration-color: #008080; font-weight: bold\">19</span> <span style=\"color: #00ff00; text-decoration-color: #00ff00; font-weight: bold\">18:22:07</span> - INFO - Memory Usage after Data Loading: <span style=\"color: #008080; text-decoration-color: #008080; font-weight: bold\">929.64</span>  <a href=\"file://C:\\Users\\newye\\AppData\\Local\\Temp\\ipykernel_37324\\3571328483.py\" target=\"_blank\"><span style=\"color: #7f7f7f; text-decoration-color: #7f7f7f\">3571328483.py</span></a><span style=\"color: #7f7f7f; text-decoration-color: #7f7f7f\">:</span><a href=\"file://C:\\Users\\newye\\AppData\\Local\\Temp\\ipykernel_37324\\3571328483.py#67\" target=\"_blank\"><span style=\"color: #7f7f7f; text-decoration-color: #7f7f7f\">67</span></a>\n",
       "<span style=\"color: #7fbfbf; text-decoration-color: #7fbfbf\">                    </span>         MB                                                                    <span style=\"color: #7f7f7f; text-decoration-color: #7f7f7f\">                </span>\n",
       "</pre>\n"
      ],
      "text/plain": [
       "\u001b[2;36m                   \u001b[0m\u001b[2;36m \u001b[0m\u001b[34mINFO    \u001b[0m \u001b[1;36m2024\u001b[0m-\u001b[1;36m12\u001b[0m-\u001b[1;36m19\u001b[0m \u001b[1;92m18:22:07\u001b[0m - INFO - Memory Usage after Data Loading: \u001b[1;36m929.64\u001b[0m  \u001b]8;id=608755;file://C:\\Users\\newye\\AppData\\Local\\Temp\\ipykernel_37324\\3571328483.py\u001b\\\u001b[2m3571328483.py\u001b[0m\u001b]8;;\u001b\\\u001b[2m:\u001b[0m\u001b]8;id=5888;file://C:\\Users\\newye\\AppData\\Local\\Temp\\ipykernel_37324\\3571328483.py#67\u001b\\\u001b[2m67\u001b[0m\u001b]8;;\u001b\\\n",
       "\u001b[2;36m                    \u001b[0m         MB                                                                    \u001b[2m                \u001b[0m\n"
      ]
     },
     "metadata": {},
     "output_type": "display_data"
    },
    {
     "data": {
      "text/html": [
       "<pre style=\"white-space:pre;overflow-x:auto;line-height:normal;font-family:Menlo,'DejaVu Sans Mono',consolas,'Courier New',monospace\"><span style=\"color: #7fbfbf; text-decoration-color: #7fbfbf\">                    </span><span style=\"color: #000080; text-decoration-color: #000080\">INFO    </span> <span style=\"color: #008080; text-decoration-color: #008080; font-weight: bold\">2024</span>-<span style=\"color: #008080; text-decoration-color: #008080; font-weight: bold\">12</span>-<span style=\"color: #008080; text-decoration-color: #008080; font-weight: bold\">19</span> <span style=\"color: #00ff00; text-decoration-color: #00ff00; font-weight: bold\">18:22:07</span> - INFO - Data loaded successfully.               <a href=\"file://C:\\Users\\newye\\AppData\\Local\\Temp\\ipykernel_37324\\3571328483.py\" target=\"_blank\"><span style=\"color: #7f7f7f; text-decoration-color: #7f7f7f\">3571328483.py</span></a><span style=\"color: #7f7f7f; text-decoration-color: #7f7f7f\">:</span><a href=\"file://C:\\Users\\newye\\AppData\\Local\\Temp\\ipykernel_37324\\3571328483.py#155\" target=\"_blank\"><span style=\"color: #7f7f7f; text-decoration-color: #7f7f7f\">155</span></a>\n",
       "</pre>\n"
      ],
      "text/plain": [
       "\u001b[2;36m                   \u001b[0m\u001b[2;36m \u001b[0m\u001b[34mINFO    \u001b[0m \u001b[1;36m2024\u001b[0m-\u001b[1;36m12\u001b[0m-\u001b[1;36m19\u001b[0m \u001b[1;92m18:22:07\u001b[0m - INFO - Data loaded successfully.               \u001b]8;id=420440;file://C:\\Users\\newye\\AppData\\Local\\Temp\\ipykernel_37324\\3571328483.py\u001b\\\u001b[2m3571328483.py\u001b[0m\u001b]8;;\u001b\\\u001b[2m:\u001b[0m\u001b]8;id=860395;file://C:\\Users\\newye\\AppData\\Local\\Temp\\ipykernel_37324\\3571328483.py#155\u001b\\\u001b[2m155\u001b[0m\u001b]8;;\u001b\\\n"
      ]
     },
     "metadata": {},
     "output_type": "display_data"
    },
    {
     "data": {
      "text/html": [
       "<pre style=\"white-space:pre;overflow-x:auto;line-height:normal;font-family:Menlo,'DejaVu Sans Mono',consolas,'Courier New',monospace\"><span style=\"color: #7fbfbf; text-decoration-color: #7fbfbf\">                    </span><span style=\"color: #000080; text-decoration-color: #000080\">INFO    </span> <span style=\"color: #008080; text-decoration-color: #008080; font-weight: bold\">2024</span>-<span style=\"color: #008080; text-decoration-color: #008080; font-weight: bold\">12</span>-<span style=\"color: #008080; text-decoration-color: #008080; font-weight: bold\">19</span> <span style=\"color: #00ff00; text-decoration-color: #00ff00; font-weight: bold\">18:22:07</span> - INFO - All required columns are present in the <a href=\"file://C:\\Users\\newye\\AppData\\Local\\Temp\\ipykernel_37324\\3571328483.py\" target=\"_blank\"><span style=\"color: #7f7f7f; text-decoration-color: #7f7f7f\">3571328483.py</span></a><span style=\"color: #7f7f7f; text-decoration-color: #7f7f7f\">:</span><a href=\"file://C:\\Users\\newye\\AppData\\Local\\Temp\\ipykernel_37324\\3571328483.py#167\" target=\"_blank\"><span style=\"color: #7f7f7f; text-decoration-color: #7f7f7f\">167</span></a>\n",
       "<span style=\"color: #7fbfbf; text-decoration-color: #7fbfbf\">                    </span>         data.                                                                <span style=\"color: #7f7f7f; text-decoration-color: #7f7f7f\">                 </span>\n",
       "</pre>\n"
      ],
      "text/plain": [
       "\u001b[2;36m                   \u001b[0m\u001b[2;36m \u001b[0m\u001b[34mINFO    \u001b[0m \u001b[1;36m2024\u001b[0m-\u001b[1;36m12\u001b[0m-\u001b[1;36m19\u001b[0m \u001b[1;92m18:22:07\u001b[0m - INFO - All required columns are present in the \u001b]8;id=176961;file://C:\\Users\\newye\\AppData\\Local\\Temp\\ipykernel_37324\\3571328483.py\u001b\\\u001b[2m3571328483.py\u001b[0m\u001b]8;;\u001b\\\u001b[2m:\u001b[0m\u001b]8;id=806998;file://C:\\Users\\newye\\AppData\\Local\\Temp\\ipykernel_37324\\3571328483.py#167\u001b\\\u001b[2m167\u001b[0m\u001b]8;;\u001b\\\n",
       "\u001b[2;36m                    \u001b[0m         data.                                                                \u001b[2m                 \u001b[0m\n"
      ]
     },
     "metadata": {},
     "output_type": "display_data"
    },
    {
     "data": {
      "text/html": [
       "<pre style=\"white-space:pre;overflow-x:auto;line-height:normal;font-family:Menlo,'DejaVu Sans Mono',consolas,'Courier New',monospace\"><span style=\"color: #7fbfbf; text-decoration-color: #7fbfbf\">                    </span><span style=\"color: #000080; text-decoration-color: #000080\">INFO    </span> <span style=\"color: #008080; text-decoration-color: #008080; font-weight: bold\">2024</span>-<span style=\"color: #008080; text-decoration-color: #008080; font-weight: bold\">12</span>-<span style=\"color: #008080; text-decoration-color: #008080; font-weight: bold\">19</span> <span style=\"color: #00ff00; text-decoration-color: #00ff00; font-weight: bold\">18:22:07</span> - INFO - DataFrame shape: <span style=\"font-weight: bold\">(</span><span style=\"color: #008080; text-decoration-color: #008080; font-weight: bold\">762</span>, <span style=\"color: #008080; text-decoration-color: #008080; font-weight: bold\">4</span><span style=\"font-weight: bold\">)</span>               <a href=\"file://C:\\Users\\newye\\AppData\\Local\\Temp\\ipykernel_37324\\3571328483.py\" target=\"_blank\"><span style=\"color: #7f7f7f; text-decoration-color: #7f7f7f\">3571328483.py</span></a><span style=\"color: #7f7f7f; text-decoration-color: #7f7f7f\">:</span><a href=\"file://C:\\Users\\newye\\AppData\\Local\\Temp\\ipykernel_37324\\3571328483.py#169\" target=\"_blank\"><span style=\"color: #7f7f7f; text-decoration-color: #7f7f7f\">169</span></a>\n",
       "</pre>\n"
      ],
      "text/plain": [
       "\u001b[2;36m                   \u001b[0m\u001b[2;36m \u001b[0m\u001b[34mINFO    \u001b[0m \u001b[1;36m2024\u001b[0m-\u001b[1;36m12\u001b[0m-\u001b[1;36m19\u001b[0m \u001b[1;92m18:22:07\u001b[0m - INFO - DataFrame shape: \u001b[1m(\u001b[0m\u001b[1;36m762\u001b[0m, \u001b[1;36m4\u001b[0m\u001b[1m)\u001b[0m               \u001b]8;id=988008;file://C:\\Users\\newye\\AppData\\Local\\Temp\\ipykernel_37324\\3571328483.py\u001b\\\u001b[2m3571328483.py\u001b[0m\u001b]8;;\u001b\\\u001b[2m:\u001b[0m\u001b]8;id=423070;file://C:\\Users\\newye\\AppData\\Local\\Temp\\ipykernel_37324\\3571328483.py#169\u001b\\\u001b[2m169\u001b[0m\u001b]8;;\u001b\\\n"
      ]
     },
     "metadata": {},
     "output_type": "display_data"
    },
    {
     "data": {
      "text/html": [
       "<pre style=\"white-space:pre;overflow-x:auto;line-height:normal;font-family:Menlo,'DejaVu Sans Mono',consolas,'Courier New',monospace\"><span style=\"color: #7fbfbf; text-decoration-color: #7fbfbf\">                    </span><span style=\"color: #000080; text-decoration-color: #000080\">INFO    </span> <span style=\"color: #008080; text-decoration-color: #008080; font-weight: bold\">2024</span>-<span style=\"color: #008080; text-decoration-color: #008080; font-weight: bold\">12</span>-<span style=\"color: #008080; text-decoration-color: #008080; font-weight: bold\">19</span> <span style=\"color: #00ff00; text-decoration-color: #00ff00; font-weight: bold\">18:22:07</span> - INFO - Memory Usage after Data Preprocessing:   <a href=\"file://C:\\Users\\newye\\AppData\\Local\\Temp\\ipykernel_37324\\3571328483.py\" target=\"_blank\"><span style=\"color: #7f7f7f; text-decoration-color: #7f7f7f\">3571328483.py</span></a><span style=\"color: #7f7f7f; text-decoration-color: #7f7f7f\">:</span><a href=\"file://C:\\Users\\newye\\AppData\\Local\\Temp\\ipykernel_37324\\3571328483.py#67\" target=\"_blank\"><span style=\"color: #7f7f7f; text-decoration-color: #7f7f7f\">67</span></a>\n",
       "<span style=\"color: #7fbfbf; text-decoration-color: #7fbfbf\">                    </span>         <span style=\"color: #008080; text-decoration-color: #008080; font-weight: bold\">929.87</span> MB                                                             <span style=\"color: #7f7f7f; text-decoration-color: #7f7f7f\">                </span>\n",
       "</pre>\n"
      ],
      "text/plain": [
       "\u001b[2;36m                   \u001b[0m\u001b[2;36m \u001b[0m\u001b[34mINFO    \u001b[0m \u001b[1;36m2024\u001b[0m-\u001b[1;36m12\u001b[0m-\u001b[1;36m19\u001b[0m \u001b[1;92m18:22:07\u001b[0m - INFO - Memory Usage after Data Preprocessing:   \u001b]8;id=75766;file://C:\\Users\\newye\\AppData\\Local\\Temp\\ipykernel_37324\\3571328483.py\u001b\\\u001b[2m3571328483.py\u001b[0m\u001b]8;;\u001b\\\u001b[2m:\u001b[0m\u001b]8;id=977636;file://C:\\Users\\newye\\AppData\\Local\\Temp\\ipykernel_37324\\3571328483.py#67\u001b\\\u001b[2m67\u001b[0m\u001b]8;;\u001b\\\n",
       "\u001b[2;36m                    \u001b[0m         \u001b[1;36m929.87\u001b[0m MB                                                             \u001b[2m                \u001b[0m\n"
      ]
     },
     "metadata": {},
     "output_type": "display_data"
    },
    {
     "data": {
      "text/html": [
       "<pre style=\"white-space:pre;overflow-x:auto;line-height:normal;font-family:Menlo,'DejaVu Sans Mono',consolas,'Courier New',monospace\"><span style=\"color: #7fbfbf; text-decoration-color: #7fbfbf\">                    </span><span style=\"color: #000080; text-decoration-color: #000080\">INFO    </span> <span style=\"color: #008080; text-decoration-color: #008080; font-weight: bold\">2024</span>-<span style=\"color: #008080; text-decoration-color: #008080; font-weight: bold\">12</span>-<span style=\"color: #008080; text-decoration-color: #008080; font-weight: bold\">19</span> <span style=\"color: #00ff00; text-decoration-color: #00ff00; font-weight: bold\">18:22:07</span> - INFO - Starting text preprocessing using       <a href=\"file://C:\\Users\\newye\\AppData\\Local\\Temp\\ipykernel_37324\\3571328483.py\" target=\"_blank\"><span style=\"color: #7f7f7f; text-decoration-color: #7f7f7f\">3571328483.py</span></a><span style=\"color: #7f7f7f; text-decoration-color: #7f7f7f\">:</span><a href=\"file://C:\\Users\\newye\\AppData\\Local\\Temp\\ipykernel_37324\\3571328483.py#173\" target=\"_blank\"><span style=\"color: #7f7f7f; text-decoration-color: #7f7f7f\">173</span></a>\n",
       "<span style=\"color: #7fbfbf; text-decoration-color: #7fbfbf\">                    </span>         DataFrame and progress_apply<span style=\"color: #808000; text-decoration-color: #808000\">...</span>                                      <span style=\"color: #7f7f7f; text-decoration-color: #7f7f7f\">                 </span>\n",
       "</pre>\n"
      ],
      "text/plain": [
       "\u001b[2;36m                   \u001b[0m\u001b[2;36m \u001b[0m\u001b[34mINFO    \u001b[0m \u001b[1;36m2024\u001b[0m-\u001b[1;36m12\u001b[0m-\u001b[1;36m19\u001b[0m \u001b[1;92m18:22:07\u001b[0m - INFO - Starting text preprocessing using       \u001b]8;id=625811;file://C:\\Users\\newye\\AppData\\Local\\Temp\\ipykernel_37324\\3571328483.py\u001b\\\u001b[2m3571328483.py\u001b[0m\u001b]8;;\u001b\\\u001b[2m:\u001b[0m\u001b]8;id=700299;file://C:\\Users\\newye\\AppData\\Local\\Temp\\ipykernel_37324\\3571328483.py#173\u001b\\\u001b[2m173\u001b[0m\u001b]8;;\u001b\\\n",
       "\u001b[2;36m                    \u001b[0m         DataFrame and progress_apply\u001b[33m...\u001b[0m                                      \u001b[2m                 \u001b[0m\n"
      ]
     },
     "metadata": {},
     "output_type": "display_data"
    },
    {
     "name": "stderr",
     "output_type": "stream",
     "text": [
      "Preprocessing Text:  75%|█████████████████████████████████████████████▏              | 574/762 [07:53<01:45,  1.78it/s]"
     ]
    }
   ],
   "source": [
    "# ----------------------- Environment Variable Configuration -----------------------\n",
    "import os\n",
    "\n",
    "# Limit the number of threads globally to prevent libraries from using all CPU cores\n",
    "os.environ[\"OMP_NUM_THREADS\"] = \"2\"\n",
    "os.environ[\"OPENBLAS_NUM_THREADS\"] = \"2\"\n",
    "os.environ[\"MKL_NUM_THREADS\"] = \"2\"\n",
    "os.environ[\"VECLIB_MAXIMUM_THREADS\"] = \"2\"\n",
    "os.environ[\"NUMEXPR_NUM_THREADS\"] = \"2\"\n",
    "\n",
    "# ----------------------- Imports -----------------------\n",
    "import sys\n",
    "import subprocess\n",
    "import re\n",
    "import json\n",
    "import logging\n",
    "import psutil\n",
    "import string\n",
    "from typing import List, Dict\n",
    "\n",
    "import pandas as pd\n",
    "import numpy as np\n",
    "import matplotlib.pyplot as plt\n",
    "import seaborn as sns\n",
    "\n",
    "from iterstrat.ml_stratifiers import MultilabelStratifiedShuffleSplit\n",
    "from sklearn.preprocessing import MultiLabelBinarizer, MinMaxScaler\n",
    "from sklearn.feature_extraction.text import TfidfVectorizer\n",
    "from sklearn.naive_bayes import MultinomialNB\n",
    "from sklearn.multiclass import OneVsRestClassifier\n",
    "from sklearn.metrics import classification_report, hamming_loss, f1_score\n",
    "from sklearn.feature_selection import SelectKBest, chi2\n",
    "\n",
    "from rich.logging import RichHandler\n",
    "from rich.console import Console\n",
    "from rich.traceback import install as install_rich_traceback\n",
    "\n",
    "import nltk\n",
    "from nltk.corpus import stopwords\n",
    "from nltk.stem import WordNetLemmatizer, PorterStemmer\n",
    "from nltk.tokenize import word_tokenize\n",
    "\n",
    "from tqdm import tqdm\n",
    "\n",
    "from iterstrat.ml_stratifiers import MultilabelStratifiedShuffleSplit\n",
    "from wordcloud import WordCloud\n",
    "\n",
    "import warnings\n",
    "warnings.filterwarnings(\"ignore\", category=UserWarning)\n",
    "\n",
    "# ----------------------- Logging Configuration -----------------------\n",
    "install_rich_traceback()\n",
    "console = Console()\n",
    "logger = logging.getLogger('NaiveBayesLogger')\n",
    "logger.setLevel(logging.DEBUG)\n",
    "rich_handler = RichHandler(console=console, rich_tracebacks=True)\n",
    "rich_handler.setLevel(logging.DEBUG)\n",
    "formatter = logging.Formatter('%(asctime)s - %(levelname)s - %(message)s', datefmt='%Y-%m-%d %H:%M:%S')\n",
    "rich_handler.setFormatter(formatter)\n",
    "if not logger.handlers:\n",
    "    logger.addHandler(rich_handler)\n",
    "\n",
    "# ----------------------- Utility Functions -----------------------\n",
    "def log_memory_usage(stage: str):\n",
    "    process = psutil.Process(os.getpid())\n",
    "    mem = process.memory_info().rss / (1024 ** 2)\n",
    "    logger.info(f'Memory Usage after {stage}: {mem:.2f} MB')\n",
    "\n",
    "def handle_exception(e: Exception, stage: str):\n",
    "    logger.error(f'Exception in {stage}: {e}', exc_info=True)\n",
    "\n",
    "# ----------------------- NLTK Resource Setup -----------------------\n",
    "def setup_nltk():\n",
    "    try:\n",
    "        nltk.data.find('corpora/stopwords')\n",
    "    except LookupError:\n",
    "        logger.info(\"Downloading NLTK stopwords...\")\n",
    "        nltk.download('stopwords')\n",
    "    try:\n",
    "        nltk.data.find('corpora/wordnet')\n",
    "    except LookupError:\n",
    "        logger.info(\"Downloading NLTK WordNet...\")\n",
    "        nltk.download('wordnet')\n",
    "    try:\n",
    "        nltk.data.find('corpora/omw-1.4')\n",
    "    except LookupError:\n",
    "        logger.info(\"Downloading NLTK omw-1.4...\")\n",
    "        nltk.download('omw-1.4')\n",
    "    try:\n",
    "        nltk.data.find('tokenizers/punkt')\n",
    "    except LookupError:\n",
    "        logger.info(\"Downloading NLTK Punkt tokenizer...\")\n",
    "        nltk.download('punkt')\n",
    "\n",
    "setup_nltk()\n",
    "stop_words = set(stopwords.words('english'))\n",
    "lemmatizer = WordNetLemmatizer()\n",
    "stemmer = PorterStemmer()\n",
    "\n",
    "# Load custom stopwords if needed\n",
    "file_path = 'stopwords.txt'\n",
    "try:\n",
    "    with open(file_path, 'r', encoding='utf-8') as file:\n",
    "        stop_lines = [line.strip() for line in file]\n",
    "    logger.info(f\"Loaded {len(stop_lines)} custom stopwords from '{file_path}'.\")\n",
    "except FileNotFoundError:\n",
    "    logger.error(f\"The stopwords file '{file_path}' was not found.\")\n",
    "    stop_lines = []\n",
    "except Exception as e:\n",
    "    handle_exception(e, f'Reading Stopwords from {file_path}')\n",
    "    stop_lines = []\n",
    "\n",
    "def preprocess_text(text: str, debug: bool=False) -> str:\n",
    "    try:\n",
    "        if not isinstance(text, str):\n",
    "            text = ''\n",
    "\n",
    "        # Remove special characters and numbers\n",
    "        text = re.sub(r'[^a-zA-Z\\s]', ' ', text)\n",
    "\n",
    "        # Normalize whitespace\n",
    "        text = ' '.join(text.split())\n",
    "\n",
    "        # Convert to lowercase\n",
    "        text = text.lower()\n",
    "\n",
    "        # Tokenization\n",
    "        tokens = word_tokenize(text)\n",
    "\n",
    "        # Remove stopwords and short words\n",
    "        filtered_tokens = [word for word in tokens if word not in stop_lines and len(word) > 2]\n",
    "\n",
    "        # Lemmatization\n",
    "        lemmatized_tokens = [lemmatizer.lemmatize(word) for word in filtered_tokens]\n",
    "\n",
    "        return ' '.join(lemmatized_tokens)\n",
    "    except Exception as e:\n",
    "        handle_exception(e, \"Preprocessing Text\")\n",
    "        return ''\n",
    "\n",
    "# ----------------------- Data Loading -----------------------\n",
    "file_path = \"collected_books.json\"\n",
    "try:\n",
    "    with open(file_path, 'r', encoding='utf-8') as f:\n",
    "        novels = json.load(f)\n",
    "    logger.info(f\"Loaded {len(novels)} novels from {file_path}.\")\n",
    "    log_memory_usage(\"Data Loading\")\n",
    "except Exception as e:\n",
    "    handle_exception(e, \"Loading Data\")\n",
    "    novels = []\n",
    "\n",
    "if not novels:\n",
    "    logger.error(\"No data loaded. Please check the file path and JSON format.\")\n",
    "else:\n",
    "    logger.info(\"Data loaded successfully.\")\n",
    "\n",
    "# ----------------------- DataFrame Conversion & Preprocessing -----------------------\n",
    "# Convert novels list of dicts to DataFrame\n",
    "data = pd.DataFrame(novels)\n",
    "\n",
    "required_columns = {'id', 'title', 'genres', 'text'}\n",
    "if not required_columns.issubset(data.columns):\n",
    "    missing = required_columns - set(data.columns)\n",
    "    logger.error(f\"The following required columns are missing from the data: {missing}\")\n",
    "    raise ValueError(f\"Missing columns: {missing}\")\n",
    "else:\n",
    "    logger.info(\"All required columns are present in the data.\")\n",
    "\n",
    "logger.info(f\"DataFrame shape: {data.shape}\")\n",
    "log_memory_usage(\"Data Preprocessing\")\n",
    "\n",
    "# Preprocess the text using progress_apply (similar approach as BasicModels)\n",
    "logger.info(\"Starting text preprocessing using DataFrame and progress_apply...\")\n",
    "tqdm.pandas(desc=\"Preprocessing Text\")\n",
    "data['processed_text'] = data['text'].progress_apply(preprocess_text)\n",
    "logger.info(\"Text preprocessing completed.\")\n",
    "log_memory_usage(\"Text Preprocessing Completed\")\n",
    "\n",
    "# Genre Binarization\n",
    "try:\n",
    "    mlb = MultiLabelBinarizer()\n",
    "    y = mlb.fit_transform(data[\"genres\"])\n",
    "    genre_labels = mlb.classes_\n",
    "    logger.info(f\"Genres have been binarized. Number of genres: {len(genre_labels)}.\")\n",
    "    log_memory_usage(\"Genre Binarization\")\n",
    "except Exception as e:\n",
    "    handle_exception(e, \"Genre Binarization\")\n",
    "    y = None\n",
    "\n",
    "# Calculate TF-IDF features\n",
    "try:\n",
    "    vectorizer = TfidfVectorizer(\n",
    "        max_features=20000,\n",
    "        ngram_range=(1,3),\n",
    "        max_df=0.70,\n",
    "        min_df=5,\n",
    "        norm='l2'\n",
    "    )\n",
    "    X = vectorizer.fit_transform(data[\"processed_text\"])\n",
    "    logger.info(f\"TF-IDF vectorization completed. Feature matrix shape: {X.shape}.\")\n",
    "    log_memory_usage(\"TF-IDF Vectorization\")\n",
    "except Exception as e:\n",
    "    handle_exception(e, \"TF-IDF Vectorization\")\n",
    "    X = None\n",
    "\n",
    "# Handle text length as a feature\n",
    "try:\n",
    "    data['text_length'] = data['processed_text'].apply(lambda x: len(x.split()))\n",
    "    scaler = MinMaxScaler()\n",
    "    from scipy.sparse import hstack, csr_matrix\n",
    "    X_length_scaled = scaler.fit_transform(data['text_length'].values.reshape(-1, 1))\n",
    "    X_combined = hstack([X, csr_matrix(X_length_scaled)])\n",
    "    logger.info(f\"Combined TF-IDF features with text length. Shape: {X_combined.shape}.\")\n",
    "    log_memory_usage(\"Handling Varying Text Lengths\")\n",
    "\n",
    "    # Verify no negative values\n",
    "    if isinstance(X_combined, csr_matrix):\n",
    "        if (X_combined.data < 0).any():\n",
    "            logger.error(\"Negative values found in X_combined.\")\n",
    "            raise ValueError(\"Negative values in X_combined after scaling.\")\n",
    "    else:\n",
    "        if (X_combined < 0).any():\n",
    "            logger.error(\"Negative values found in X_combined.\")\n",
    "            raise ValueError(\"Negative values in X_combined after scaling.\")\n",
    "except Exception as e:\n",
    "    handle_exception(e, \"Handling Varying Text Lengths\")\n",
    "    X_combined = X\n",
    "\n",
    "# Feature Selection\n",
    "try:\n",
    "    selector = SelectKBest(chi2, k=10000)\n",
    "    X_selected = selector.fit_transform(X_combined, y)\n",
    "    logger.info(f\"Feature selection completed. Selected feature matrix shape: {X_selected.shape}.\")\n",
    "    log_memory_usage(\"Feature Selection\")\n",
    "except Exception as e:\n",
    "    handle_exception(e, \"Feature Selection\")\n",
    "    X_selected = X_combined\n",
    "\n",
    "# Stratified Train-Test Split\n",
    "try:\n",
    "    if X_selected is None or y is None:\n",
    "        raise ValueError(\"Feature matrix 'X_selected' or labels 'y' are not defined.\")\n",
    "    logger.info(\"Performing stratified train-test split using MultilabelStratifiedShuffleSplit...\")\n",
    "    msss = MultilabelStratifiedShuffleSplit(n_splits=1, test_size=0.2, random_state=42)\n",
    "    for train_index, test_index in msss.split(X_selected, y):\n",
    "        X_train, X_test = X_selected[train_index], X_selected[test_index]\n",
    "        y_train, y_test = y[train_index], y[test_index]\n",
    "\n",
    "    logger.info(\"Train-Test split completed.\")\n",
    "    logger.info(f\"Training set shape: X_train={X_train.shape}, y_train={y_train.shape}\")\n",
    "    logger.info(f\"Testing set shape: X_test={X_test.shape}, y_test={y_test.shape}\")\n",
    "    log_memory_usage(\"Train-Test Split\")\n",
    "except Exception as e:\n",
    "    handle_exception(e, 'Train-Test Split')\n",
    "    X_train, X_test, y_train, y_test = None, None, None, None\n",
    "\n",
    "# Multinomial Naive Bayes Training\n",
    "try:\n",
    "    logger.info(\"Starting training for Multinomial Naive Bayes...\")\n",
    "    nb_model = OneVsRestClassifier(MultinomialNB(alpha=1.0))\n",
    "    nb_model.fit(X_train, y_train)\n",
    "    logger.info(\"Multinomial Naive Bayes training completed.\")\n",
    "    log_memory_usage(\"Multinomial Naive Bayes Training\")\n",
    "except Exception as e:\n",
    "    handle_exception(e, \"Multinomial Naive Bayes Training\")\n",
    "    nb_model = None\n",
    "\n",
    "# Model Evaluation\n",
    "try:\n",
    "    if nb_model:\n",
    "        logger.info(\"Making predictions on the test set with Multinomial Naive Bayes...\")\n",
    "        y_pred = nb_model.predict(X_test)\n",
    "        logger.info(\"Predictions completed.\")\n",
    "        log_memory_usage(\"Naive Bayes Predictions\")\n",
    "\n",
    "        # Compute Metrics\n",
    "        h_loss = hamming_loss(y_test, y_pred)\n",
    "        micro_f1 = f1_score(y_test, y_pred, average='micro')\n",
    "        macro_f1 = f1_score(y_test, y_pred, average='macro')\n",
    "\n",
    "        logger.info(f\"Hamming Loss: {h_loss:.4f}\")\n",
    "        logger.info(f\"Micro F1 Score: {micro_f1:.4f}\")\n",
    "        logger.info(f\"Macro F1 Score: {macro_f1:.4f}\")\n",
    "\n",
    "        report = classification_report(y_test, y_pred, target_names=mlb.classes_, output_dict=True)\n",
    "        logger.info(\"Classification Report:\")\n",
    "        logger.info(f\"{classification_report(y_test, y_pred, target_names=mlb.classes_)}\")\n",
    "\n",
    "        console.print(f\"\\n[bold green]Multinomial Naive Bayes Model Performance Metrics:[/bold green]\")\n",
    "        console.print(f\"Hamming Loss: [bold]{h_loss:.4f}[/bold]\")\n",
    "        console.print(f\"Micro F1 Score: [bold]{micro_f1:.4f}[/bold]\")\n",
    "        console.print(f\"Macro F1 Score: [bold]{macro_f1:.4f}[/bold]\")\n",
    "    else:\n",
    "        logger.error(\"Model is not trained. Skipping evaluation.\")\n",
    "except Exception as e:\n",
    "    handle_exception(e, \"Model Evaluation\")\n",
    "\n",
    "logger.info(\"Naive Bayes processing completed successfully.\")\n"
   ]
  },
  {
   "cell_type": "code",
   "execution_count": null,
   "metadata": {},
   "outputs": [],
   "source": []
  }
 ],
 "metadata": {
  "kernelspec": {
   "display_name": "Python 3 (ipykernel)",
   "language": "python",
   "name": "python3"
  },
  "language_info": {
   "codemirror_mode": {
    "name": "ipython",
    "version": 3
   },
   "file_extension": ".py",
   "mimetype": "text/x-python",
   "name": "python",
   "nbconvert_exporter": "python",
   "pygments_lexer": "ipython3",
   "version": "3.10.6"
  }
 },
 "nbformat": 4,
 "nbformat_minor": 4
}
